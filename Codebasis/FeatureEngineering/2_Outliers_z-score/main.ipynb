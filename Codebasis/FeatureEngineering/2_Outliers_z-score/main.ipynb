{
  "nbformat": 4,
  "nbformat_minor": 0,
  "metadata": {
    "colab": {
      "name": "main.ipynb",
      "provenance": [],
      "collapsed_sections": [],
      "authorship_tag": "ABX9TyMyB9tD1Wsd5XBdHvl88fs8",
      "include_colab_link": true
    },
    "kernelspec": {
      "name": "python3",
      "display_name": "Python 3"
    },
    "language_info": {
      "name": "python"
    }
  },
  "cells": [
    {
      "cell_type": "markdown",
      "metadata": {
        "id": "view-in-github",
        "colab_type": "text"
      },
      "source": [
        "<a href=\"https://colab.research.google.com/github/J0SAL/Learning-ML/blob/main/Codebasis/FeatureEngineering/2_Outliers_z-score/main.ipynb\" target=\"_parent\"><img src=\"https://colab.research.google.com/assets/colab-badge.svg\" alt=\"Open In Colab\"/></a>"
      ]
    },
    {
      "cell_type": "markdown",
      "metadata": {
        "id": "QgvF6-TJrUYS"
      },
      "source": [
        "### Outlier Detection and Removal - Z Score and Std Deviation"
      ]
    },
    {
      "cell_type": "markdown",
      "metadata": {
        "id": "YX4QEqqfyPC9"
      },
      "source": [
        "\n",
        "You are given bhp.csv which contains property prices in the city of banglore, India. You need to examine price_per_sqft column and do following,\n",
        "\n",
        "(1) Remove outliers using percentile technique first. Use [0.001, 0.999] for lower and upper bound percentiles\n",
        "\n",
        "(2) After removing outliers in step 1, you get a new dataframe.\n",
        "\n",
        "(3) On step(2) dataframe, use 4 standard deviation to remove outliers\n",
        "\n",
        "(4) Plot histogram for new dataframe that is generated after step (3). Also plot bell curve on same histogram\n",
        "\n",
        "(5) On step(2) dataframe, use zscore of 4 to remove outliers. This is quite similar to step (3) and you will get exact same result\n",
        "\n"
      ]
    },
    {
      "cell_type": "code",
      "metadata": {
        "colab": {
          "base_uri": "https://localhost:8080/",
          "height": 204
        },
        "id": "NHJyUQwvyDzU",
        "outputId": "e5421647-a194-4cc2-cefa-035d1f644dd8"
      },
      "source": [
        "import pandas as pd\n",
        "import matplotlib.pyplot as plt\n",
        "%matplotlib inline\n",
        "\n",
        "df = pd.read_csv(\"bhp.csv\")\n",
        "df.head()"
      ],
      "execution_count": 13,
      "outputs": [
        {
          "output_type": "execute_result",
          "data": {
            "text/html": [
              "<div>\n",
              "<style scoped>\n",
              "    .dataframe tbody tr th:only-of-type {\n",
              "        vertical-align: middle;\n",
              "    }\n",
              "\n",
              "    .dataframe tbody tr th {\n",
              "        vertical-align: top;\n",
              "    }\n",
              "\n",
              "    .dataframe thead th {\n",
              "        text-align: right;\n",
              "    }\n",
              "</style>\n",
              "<table border=\"1\" class=\"dataframe\">\n",
              "  <thead>\n",
              "    <tr style=\"text-align: right;\">\n",
              "      <th></th>\n",
              "      <th>location</th>\n",
              "      <th>size</th>\n",
              "      <th>total_sqft</th>\n",
              "      <th>bath</th>\n",
              "      <th>price</th>\n",
              "      <th>bhk</th>\n",
              "      <th>price_per_sqft</th>\n",
              "    </tr>\n",
              "  </thead>\n",
              "  <tbody>\n",
              "    <tr>\n",
              "      <th>0</th>\n",
              "      <td>Electronic City Phase II</td>\n",
              "      <td>2 BHK</td>\n",
              "      <td>1056.0</td>\n",
              "      <td>2.0</td>\n",
              "      <td>39.07</td>\n",
              "      <td>2</td>\n",
              "      <td>3699</td>\n",
              "    </tr>\n",
              "    <tr>\n",
              "      <th>1</th>\n",
              "      <td>Chikka Tirupathi</td>\n",
              "      <td>4 Bedroom</td>\n",
              "      <td>2600.0</td>\n",
              "      <td>5.0</td>\n",
              "      <td>120.00</td>\n",
              "      <td>4</td>\n",
              "      <td>4615</td>\n",
              "    </tr>\n",
              "    <tr>\n",
              "      <th>2</th>\n",
              "      <td>Uttarahalli</td>\n",
              "      <td>3 BHK</td>\n",
              "      <td>1440.0</td>\n",
              "      <td>2.0</td>\n",
              "      <td>62.00</td>\n",
              "      <td>3</td>\n",
              "      <td>4305</td>\n",
              "    </tr>\n",
              "    <tr>\n",
              "      <th>3</th>\n",
              "      <td>Lingadheeranahalli</td>\n",
              "      <td>3 BHK</td>\n",
              "      <td>1521.0</td>\n",
              "      <td>3.0</td>\n",
              "      <td>95.00</td>\n",
              "      <td>3</td>\n",
              "      <td>6245</td>\n",
              "    </tr>\n",
              "    <tr>\n",
              "      <th>4</th>\n",
              "      <td>Kothanur</td>\n",
              "      <td>2 BHK</td>\n",
              "      <td>1200.0</td>\n",
              "      <td>2.0</td>\n",
              "      <td>51.00</td>\n",
              "      <td>2</td>\n",
              "      <td>4250</td>\n",
              "    </tr>\n",
              "  </tbody>\n",
              "</table>\n",
              "</div>"
            ],
            "text/plain": [
              "                   location       size  total_sqft  ...   price  bhk  price_per_sqft\n",
              "0  Electronic City Phase II      2 BHK      1056.0  ...   39.07    2            3699\n",
              "1          Chikka Tirupathi  4 Bedroom      2600.0  ...  120.00    4            4615\n",
              "2               Uttarahalli      3 BHK      1440.0  ...   62.00    3            4305\n",
              "3        Lingadheeranahalli      3 BHK      1521.0  ...   95.00    3            6245\n",
              "4                  Kothanur      2 BHK      1200.0  ...   51.00    2            4250\n",
              "\n",
              "[5 rows x 7 columns]"
            ]
          },
          "metadata": {},
          "execution_count": 13
        }
      ]
    },
    {
      "cell_type": "code",
      "metadata": {
        "colab": {
          "base_uri": "https://localhost:8080/"
        },
        "id": "-TFXhe_JytCd",
        "outputId": "27eae208-e79b-45bf-9cfa-7d523c45397b"
      },
      "source": [
        "df.price_per_sqft.describe()"
      ],
      "execution_count": 14,
      "outputs": [
        {
          "output_type": "execute_result",
          "data": {
            "text/plain": [
              "count    1.320000e+04\n",
              "mean     7.920337e+03\n",
              "std      1.067272e+05\n",
              "min      2.670000e+02\n",
              "25%      4.267000e+03\n",
              "50%      5.438000e+03\n",
              "75%      7.317000e+03\n",
              "max      1.200000e+07\n",
              "Name: price_per_sqft, dtype: float64"
            ]
          },
          "metadata": {},
          "execution_count": 14
        }
      ]
    },
    {
      "cell_type": "markdown",
      "metadata": {
        "id": "i4PR-qsoy9Gq"
      },
      "source": [
        "Above, you can see max is 12000000, which is too much price for price per sqft. Looks like this dataset has some very bad outliers so we will first remove those with percentile and then use z score"
      ]
    },
    {
      "cell_type": "code",
      "metadata": {
        "colab": {
          "base_uri": "https://localhost:8080/",
          "height": 279
        },
        "id": "Z-eGP9u_y1oK",
        "outputId": "c6d3c9cf-8c18-428d-d6b2-dd11cb90ddf3"
      },
      "source": [
        "plt.hist(df.price_per_sqft, bins = 20, rwidth=0.8)\n",
        "plt.xlabel('price per sq ft')\n",
        "plt.ylabel('Count')\n",
        "plt.show()"
      ],
      "execution_count": 15,
      "outputs": [
        {
          "output_type": "display_data",
          "data": {
            "image/png": "[encoded data removed]",
            "text/plain": [
              "<Figure size 432x288 with 1 Axes>"
            ]
          },
          "metadata": {
            "needs_background": "light"
          }
        }
      ]
    },
    {
      "cell_type": "markdown",
      "metadata": {
        "id": "izsPli2fzZYE"
      },
      "source": [
        "\n",
        "Above chart confirms our understanding that this dataset has some bad outliers. Because we see only one bar with more than 12000 data points but on the right hand side there are data points that have higher value for price per sqft but count of these data points is very tiny compared to 12000 hence we can hardly see any bar\n",
        "\n",
        "Using log scale can make visualization little better"
      ]
    },
    {
      "cell_type": "code",
      "metadata": {
        "colab": {
          "base_uri": "https://localhost:8080/",
          "height": 279
        },
        "id": "UN8ED96wzLKP",
        "outputId": "d951af9a-d90e-49e2-f77b-7321f6daa482"
      },
      "source": [
        "plt.hist(df.price_per_sqft, bins = 20, rwidth=0.8)\n",
        "plt.xlabel('Price per square ft')\n",
        "plt.ylabel('Count')\n",
        "plt.yscale('log')\n",
        "plt.show()"
      ],
      "execution_count": 16,
      "outputs": [
        {
          "output_type": "display_data",
          "data": {
            "image/png": "[encoded data removed]",
            "text/plain": [
              "<Figure size 432x288 with 1 Axes>"
            ]
          },
          "metadata": {
            "needs_background": "light"
          }
        }
      ]
    },
    {
      "cell_type": "markdown",
      "metadata": {
        "id": "yQN8V-eIzvYh"
      },
      "source": [
        "(1) Treat outliers using percentile first"
      ]
    },
    {
      "cell_type": "code",
      "metadata": {
        "colab": {
          "base_uri": "https://localhost:8080/"
        },
        "id": "xdeXxrrHzr5-",
        "outputId": "4887b3af-ad30-4e09-c069-3625ffc0fec7"
      },
      "source": [
        "lower_limit, upper_limit = df.price_per_sqft.quantile([0.001, 0.999])\n",
        "lower_limit, upper_limit"
      ],
      "execution_count": 17,
      "outputs": [
        {
          "output_type": "execute_result",
          "data": {
            "text/plain": [
              "(1366.184, 50959.36200000099)"
            ]
          },
          "metadata": {},
          "execution_count": 17
        }
      ]
    },
    {
      "cell_type": "code",
      "metadata": {
        "id": "6Qamo72C0Ez8"
      },
      "source": [
        "outliers = df[(df.price_per_sqft>upper_limit) | (df.price_per_sqft<lower_limit)]"
      ],
      "execution_count": 18,
      "outputs": []
    },
    {
      "cell_type": "code",
      "metadata": {
        "colab": {
          "base_uri": "https://localhost:8080/",
          "height": 359
        },
        "id": "ta7qmSH10Hwr",
        "outputId": "a3f44e03-a1fd-4706-86a2-d41c593ae66a"
      },
      "source": [
        "outliers.sample(10)"
      ],
      "execution_count": 19,
      "outputs": [
        {
          "output_type": "execute_result",
          "data": {
            "text/html": [
              "<div>\n",
              "<style scoped>\n",
              "    .dataframe tbody tr th:only-of-type {\n",
              "        vertical-align: middle;\n",
              "    }\n",
              "\n",
              "    .dataframe tbody tr th {\n",
              "        vertical-align: top;\n",
              "    }\n",
              "\n",
              "    .dataframe thead th {\n",
              "        text-align: right;\n",
              "    }\n",
              "</style>\n",
              "<table border=\"1\" class=\"dataframe\">\n",
              "  <thead>\n",
              "    <tr style=\"text-align: right;\">\n",
              "      <th></th>\n",
              "      <th>location</th>\n",
              "      <th>size</th>\n",
              "      <th>total_sqft</th>\n",
              "      <th>bath</th>\n",
              "      <th>price</th>\n",
              "      <th>bhk</th>\n",
              "      <th>price_per_sqft</th>\n",
              "    </tr>\n",
              "  </thead>\n",
              "  <tbody>\n",
              "    <tr>\n",
              "      <th>3934</th>\n",
              "      <td>other</td>\n",
              "      <td>1 BHK</td>\n",
              "      <td>1500.0</td>\n",
              "      <td>1.0</td>\n",
              "      <td>19.5</td>\n",
              "      <td>1</td>\n",
              "      <td>1300</td>\n",
              "    </tr>\n",
              "    <tr>\n",
              "      <th>5597</th>\n",
              "      <td>JP Nagar</td>\n",
              "      <td>2 BHK</td>\n",
              "      <td>1100.0</td>\n",
              "      <td>1.0</td>\n",
              "      <td>15.0</td>\n",
              "      <td>2</td>\n",
              "      <td>1363</td>\n",
              "    </tr>\n",
              "    <tr>\n",
              "      <th>7575</th>\n",
              "      <td>other</td>\n",
              "      <td>1 BHK</td>\n",
              "      <td>425.0</td>\n",
              "      <td>1.0</td>\n",
              "      <td>750.0</td>\n",
              "      <td>1</td>\n",
              "      <td>176470</td>\n",
              "    </tr>\n",
              "    <tr>\n",
              "      <th>9144</th>\n",
              "      <td>other</td>\n",
              "      <td>4 Bedroom</td>\n",
              "      <td>10961.0</td>\n",
              "      <td>4.0</td>\n",
              "      <td>80.0</td>\n",
              "      <td>4</td>\n",
              "      <td>729</td>\n",
              "    </tr>\n",
              "    <tr>\n",
              "      <th>4924</th>\n",
              "      <td>other</td>\n",
              "      <td>7 BHK</td>\n",
              "      <td>5.0</td>\n",
              "      <td>7.0</td>\n",
              "      <td>115.0</td>\n",
              "      <td>7</td>\n",
              "      <td>2300000</td>\n",
              "    </tr>\n",
              "    <tr>\n",
              "      <th>12328</th>\n",
              "      <td>other</td>\n",
              "      <td>4 Bedroom</td>\n",
              "      <td>4350.0</td>\n",
              "      <td>8.0</td>\n",
              "      <td>2600.0</td>\n",
              "      <td>4</td>\n",
              "      <td>59770</td>\n",
              "    </tr>\n",
              "    <tr>\n",
              "      <th>1867</th>\n",
              "      <td>other</td>\n",
              "      <td>3 Bedroom</td>\n",
              "      <td>52272.0</td>\n",
              "      <td>2.0</td>\n",
              "      <td>140.0</td>\n",
              "      <td>3</td>\n",
              "      <td>267</td>\n",
              "    </tr>\n",
              "    <tr>\n",
              "      <th>8300</th>\n",
              "      <td>Kengeri</td>\n",
              "      <td>1 BHK</td>\n",
              "      <td>1200.0</td>\n",
              "      <td>1.0</td>\n",
              "      <td>14.0</td>\n",
              "      <td>1</td>\n",
              "      <td>1166</td>\n",
              "    </tr>\n",
              "    <tr>\n",
              "      <th>12355</th>\n",
              "      <td>other</td>\n",
              "      <td>4 BHK</td>\n",
              "      <td>16335.0</td>\n",
              "      <td>4.0</td>\n",
              "      <td>149.0</td>\n",
              "      <td>4</td>\n",
              "      <td>912</td>\n",
              "    </tr>\n",
              "    <tr>\n",
              "      <th>7012</th>\n",
              "      <td>other</td>\n",
              "      <td>1 BHK</td>\n",
              "      <td>650.0</td>\n",
              "      <td>1.0</td>\n",
              "      <td>500.0</td>\n",
              "      <td>1</td>\n",
              "      <td>76923</td>\n",
              "    </tr>\n",
              "  </tbody>\n",
              "</table>\n",
              "</div>"
            ],
            "text/plain": [
              "       location       size  total_sqft  bath   price  bhk  price_per_sqft\n",
              "3934      other      1 BHK      1500.0   1.0    19.5    1            1300\n",
              "5597   JP Nagar      2 BHK      1100.0   1.0    15.0    2            1363\n",
              "7575      other      1 BHK       425.0   1.0   750.0    1          176470\n",
              "9144      other  4 Bedroom     10961.0   4.0    80.0    4             729\n",
              "4924      other      7 BHK         5.0   7.0   115.0    7         2300000\n",
              "12328     other  4 Bedroom      4350.0   8.0  2600.0    4           59770\n",
              "1867      other  3 Bedroom     52272.0   2.0   140.0    3             267\n",
              "8300    Kengeri      1 BHK      1200.0   1.0    14.0    1            1166\n",
              "12355     other      4 BHK     16335.0   4.0   149.0    4             912\n",
              "7012      other      1 BHK       650.0   1.0   500.0    1           76923"
            ]
          },
          "metadata": {},
          "execution_count": 19
        }
      ]
    },
    {
      "cell_type": "markdown",
      "metadata": {
        "id": "-LvrafgZ0Zu7"
      },
      "source": [
        "Above shows properties that has price_per_sqft value such as 500 rs which is very very low for the city of banglore. You would be very lucky if you can find such as property :) Also we have properties that has price per sqft value such as 12000000 which is way too high. It seems almost impossible and even if it is legitimate it can help data analysis process if we remove such a data point"
      ]
    },
    {
      "cell_type": "code",
      "metadata": {
        "colab": {
          "base_uri": "https://localhost:8080/"
        },
        "id": "IkETpNJy0SRR",
        "outputId": "0a750c26-eee5-4cd1-fb9b-2eb908bae824"
      },
      "source": [
        "df2 = df[(df.price_per_sqft<upper_limit) & (df.price_per_sqft>lower_limit)]\n",
        "df2.shape"
      ],
      "execution_count": 21,
      "outputs": [
        {
          "output_type": "execute_result",
          "data": {
            "text/plain": [
              "(13172, 7)"
            ]
          },
          "metadata": {},
          "execution_count": 21
        }
      ]
    },
    {
      "cell_type": "code",
      "metadata": {
        "colab": {
          "base_uri": "https://localhost:8080/"
        },
        "id": "W3P-6kfR0kI9",
        "outputId": "2961da5a-6faf-4fd7-ce69-7c4a77f79a37"
      },
      "source": [
        "df.shape"
      ],
      "execution_count": 22,
      "outputs": [
        {
          "output_type": "execute_result",
          "data": {
            "text/plain": [
              "(13200, 7)"
            ]
          },
          "metadata": {},
          "execution_count": 22
        }
      ]
    },
    {
      "cell_type": "code",
      "metadata": {
        "colab": {
          "base_uri": "https://localhost:8080/"
        },
        "id": "hU6hEpVy0tDW",
        "outputId": "6df52849-44ba-47e3-cf4c-691c3c6a128b"
      },
      "source": [
        "##we removed 28 outliers\n",
        "df.shape[0] - df2.shape[0]"
      ],
      "execution_count": 23,
      "outputs": [
        {
          "output_type": "execute_result",
          "data": {
            "text/plain": [
              "28"
            ]
          },
          "metadata": {},
          "execution_count": 23
        }
      ]
    },
    {
      "cell_type": "markdown",
      "metadata": {
        "id": "2zNwGyUZ02pJ"
      },
      "source": [
        "\n",
        "**(2) Now remove outliers using 4 standard deviation**"
      ]
    },
    {
      "cell_type": "code",
      "metadata": {
        "colab": {
          "base_uri": "https://localhost:8080/"
        },
        "id": "ey7Z-Ca300OP",
        "outputId": "bb459873-9c3f-453e-ec0a-1270804082ac"
      },
      "source": [
        "max_limit = df2.price_per_sqft.mean() + 4*df2.price_per_sqft.std()\n",
        "min_limit = df2.price_per_sqft.mean() - 4*df2.price_per_sqft.std()\n",
        "max_limit, min_limit"
      ],
      "execution_count": 24,
      "outputs": [
        {
          "output_type": "execute_result",
          "data": {
            "text/plain": [
              "(23227.73653589429, -9900.429065502549)"
            ]
          },
          "metadata": {},
          "execution_count": 24
        }
      ]
    },
    {
      "cell_type": "code",
      "metadata": {
        "colab": {
          "base_uri": "https://localhost:8080/",
          "height": 359
        },
        "id": "3DZxmDsu1AwS",
        "outputId": "7860e5fc-6f3f-4e8e-aeac-7a1f2ccc1cfb"
      },
      "source": [
        "\n",
        "df2[(df2.price_per_sqft>max_limit) | (df2.price_per_sqft<min_limit)].sample(10)"
      ],
      "execution_count": 26,
      "outputs": [
        {
          "output_type": "execute_result",
          "data": {
            "text/html": [
              "<div>\n",
              "<style scoped>\n",
              "    .dataframe tbody tr th:only-of-type {\n",
              "        vertical-align: middle;\n",
              "    }\n",
              "\n",
              "    .dataframe tbody tr th {\n",
              "        vertical-align: top;\n",
              "    }\n",
              "\n",
              "    .dataframe thead th {\n",
              "        text-align: right;\n",
              "    }\n",
              "</style>\n",
              "<table border=\"1\" class=\"dataframe\">\n",
              "  <thead>\n",
              "    <tr style=\"text-align: right;\">\n",
              "      <th></th>\n",
              "      <th>location</th>\n",
              "      <th>size</th>\n",
              "      <th>total_sqft</th>\n",
              "      <th>bath</th>\n",
              "      <th>price</th>\n",
              "      <th>bhk</th>\n",
              "      <th>price_per_sqft</th>\n",
              "    </tr>\n",
              "  </thead>\n",
              "  <tbody>\n",
              "    <tr>\n",
              "      <th>6391</th>\n",
              "      <td>other</td>\n",
              "      <td>5 Bedroom</td>\n",
              "      <td>4000.0</td>\n",
              "      <td>4.0</td>\n",
              "      <td>1000.0</td>\n",
              "      <td>5</td>\n",
              "      <td>25000</td>\n",
              "    </tr>\n",
              "    <tr>\n",
              "      <th>4119</th>\n",
              "      <td>other</td>\n",
              "      <td>4 Bedroom</td>\n",
              "      <td>7000.0</td>\n",
              "      <td>5.0</td>\n",
              "      <td>2050.0</td>\n",
              "      <td>4</td>\n",
              "      <td>29285</td>\n",
              "    </tr>\n",
              "    <tr>\n",
              "      <th>8861</th>\n",
              "      <td>Cunningham Road</td>\n",
              "      <td>5 Bedroom</td>\n",
              "      <td>2925.0</td>\n",
              "      <td>5.0</td>\n",
              "      <td>936.0</td>\n",
              "      <td>5</td>\n",
              "      <td>32000</td>\n",
              "    </tr>\n",
              "    <tr>\n",
              "      <th>13094</th>\n",
              "      <td>other</td>\n",
              "      <td>4 Bedroom</td>\n",
              "      <td>1200.0</td>\n",
              "      <td>5.0</td>\n",
              "      <td>325.0</td>\n",
              "      <td>4</td>\n",
              "      <td>27083</td>\n",
              "    </tr>\n",
              "    <tr>\n",
              "      <th>6864</th>\n",
              "      <td>5th Block Hbr Layout</td>\n",
              "      <td>9 Bedroom</td>\n",
              "      <td>2600.0</td>\n",
              "      <td>12.0</td>\n",
              "      <td>675.0</td>\n",
              "      <td>9</td>\n",
              "      <td>25961</td>\n",
              "    </tr>\n",
              "    <tr>\n",
              "      <th>13013</th>\n",
              "      <td>other</td>\n",
              "      <td>4 Bedroom</td>\n",
              "      <td>1200.0</td>\n",
              "      <td>5.0</td>\n",
              "      <td>350.0</td>\n",
              "      <td>4</td>\n",
              "      <td>29166</td>\n",
              "    </tr>\n",
              "    <tr>\n",
              "      <th>11919</th>\n",
              "      <td>other</td>\n",
              "      <td>3 Bedroom</td>\n",
              "      <td>1524.0</td>\n",
              "      <td>4.0</td>\n",
              "      <td>400.0</td>\n",
              "      <td>3</td>\n",
              "      <td>26246</td>\n",
              "    </tr>\n",
              "    <tr>\n",
              "      <th>2825</th>\n",
              "      <td>HBR Layout</td>\n",
              "      <td>9 Bedroom</td>\n",
              "      <td>1200.0</td>\n",
              "      <td>6.0</td>\n",
              "      <td>280.0</td>\n",
              "      <td>9</td>\n",
              "      <td>23333</td>\n",
              "    </tr>\n",
              "    <tr>\n",
              "      <th>6709</th>\n",
              "      <td>Malleshwaram</td>\n",
              "      <td>4 Bedroom</td>\n",
              "      <td>4000.0</td>\n",
              "      <td>4.0</td>\n",
              "      <td>1100.0</td>\n",
              "      <td>4</td>\n",
              "      <td>27500</td>\n",
              "    </tr>\n",
              "    <tr>\n",
              "      <th>12678</th>\n",
              "      <td>Chikkalasandra</td>\n",
              "      <td>5 Bedroom</td>\n",
              "      <td>1000.0</td>\n",
              "      <td>4.0</td>\n",
              "      <td>300.0</td>\n",
              "      <td>5</td>\n",
              "      <td>30000</td>\n",
              "    </tr>\n",
              "  </tbody>\n",
              "</table>\n",
              "</div>"
            ],
            "text/plain": [
              "                   location       size  total_sqft  ...   price  bhk  price_per_sqft\n",
              "6391                  other  5 Bedroom      4000.0  ...  1000.0    5           25000\n",
              "4119                  other  4 Bedroom      7000.0  ...  2050.0    4           29285\n",
              "8861        Cunningham Road  5 Bedroom      2925.0  ...   936.0    5           32000\n",
              "13094                 other  4 Bedroom      1200.0  ...   325.0    4           27083\n",
              "6864   5th Block Hbr Layout  9 Bedroom      2600.0  ...   675.0    9           25961\n",
              "13013                 other  4 Bedroom      1200.0  ...   350.0    4           29166\n",
              "11919                 other  3 Bedroom      1524.0  ...   400.0    3           26246\n",
              "2825             HBR Layout  9 Bedroom      1200.0  ...   280.0    9           23333\n",
              "6709           Malleshwaram  4 Bedroom      4000.0  ...  1100.0    4           27500\n",
              "12678        Chikkalasandra  5 Bedroom      1000.0  ...   300.0    5           30000\n",
              "\n",
              "[10 rows x 7 columns]"
            ]
          },
          "metadata": {},
          "execution_count": 26
        }
      ]
    },
    {
      "cell_type": "code",
      "metadata": {
        "colab": {
          "base_uri": "https://localhost:8080/"
        },
        "id": "egEoZ8x51BIb",
        "outputId": "f1051bfc-87c9-4ac2-bea4-f5f862da958b"
      },
      "source": [
        "df3 = df2[(df2.price_per_sqft>min_limit) & (df2.price_per_sqft<max_limit)]\n",
        "df3.shape"
      ],
      "execution_count": 28,
      "outputs": [
        {
          "output_type": "execute_result",
          "data": {
            "text/plain": [
              "(13047, 7)"
            ]
          },
          "metadata": {},
          "execution_count": 28
        }
      ]
    },
    {
      "cell_type": "code",
      "metadata": {
        "colab": {
          "base_uri": "https://localhost:8080/"
        },
        "id": "GPMKN79A1I1E",
        "outputId": "977e79bd-1c5f-43e1-e057-929c72c9dbd8"
      },
      "source": [
        "##removed 125 outliers\n",
        "\n",
        "df2.shape[0]-df3.shape[0]"
      ],
      "execution_count": 29,
      "outputs": [
        {
          "output_type": "execute_result",
          "data": {
            "text/plain": [
              "125"
            ]
          },
          "metadata": {},
          "execution_count": 29
        }
      ]
    },
    {
      "cell_type": "code",
      "metadata": {
        "colab": {
          "base_uri": "https://localhost:8080/",
          "height": 279
        },
        "id": "NFlkGzyy1RQo",
        "outputId": "40900b92-f880-4838-d8dc-ae0a2fbd4726"
      },
      "source": [
        "plt.hist(df3.price_per_sqft, bins=20, rwidth=0.8)\n",
        "plt.xlabel('Price per square ft')\n",
        "plt.ylabel('Count')\n",
        "plt.show()"
      ],
      "execution_count": 30,
      "outputs": [
        {
          "output_type": "display_data",
          "data": {
            "image/png": "[encoded data removed]",
            "text/plain": [
              "<Figure size 432x288 with 1 Axes>"
            ]
          },
          "metadata": {
            "needs_background": "light"
          }
        }
      ]
    },
    {
      "cell_type": "code",
      "metadata": {
        "colab": {
          "base_uri": "https://localhost:8080/",
          "height": 296
        },
        "id": "WYHizqW41S2H",
        "outputId": "ecd70463-8c41-4300-e6c1-396d51b0415b"
      },
      "source": [
        "from scipy.stats import norm\n",
        "import numpy as np\n",
        "\n",
        "plt.hist(df3.price_per_sqft, bins=20, rwidth=0.8, density=True)\n",
        "plt.xlabel('Height (inches)')\n",
        "plt.ylabel('Count')\n",
        "\n",
        "rng = np.arange(-5000, df3.price_per_sqft.max(), 100)\n",
        "plt.plot(rng, norm.pdf(rng,df3.price_per_sqft.mean(),df3.price_per_sqft.std()))"
      ],
      "execution_count": 31,
      "outputs": [
        {
          "output_type": "execute_result",
          "data": {
            "text/plain": [
              "[<matplotlib.lines.Line2D at 0x7fdef8d39ad0>]"
            ]
          },
          "metadata": {},
          "execution_count": 31
        },
        {
          "output_type": "display_data",
          "data": {
            "image/png": "[encoded data removed]",
            "text/plain": [
              "<Figure size 432x288 with 1 Axes>"
            ]
          },
          "metadata": {
            "needs_background": "light"
          }
        }
      ]
    },
    {
      "cell_type": "markdown",
      "metadata": {
        "id": "I4sMOkJL1gMH"
      },
      "source": [
        "**(3) Now remove outliers using z score. Use z score of 4 as your thresold**"
      ]
    },
    {
      "cell_type": "code",
      "metadata": {
        "colab": {
          "base_uri": "https://localhost:8080/",
          "height": 461
        },
        "id": "Bq6x_2uL1X8x",
        "outputId": "0562cca6-b0b2-4a82-c10c-a6a073ca3661"
      },
      "source": [
        "df2['zscore'] = (df2.price_per_sqft-df2.price_per_sqft.mean())/df2.price_per_sqft.std()\n",
        "df2.sample(10)"
      ],
      "execution_count": 32,
      "outputs": [
        {
          "output_type": "stream",
          "name": "stderr",
          "text": [
            "/usr/local/lib/python3.7/dist-packages/ipykernel_launcher.py:1: SettingWithCopyWarning: \n",
            "A value is trying to be set on a copy of a slice from a DataFrame.\n",
            "Try using .loc[row_indexer,col_indexer] = value instead\n",
            "\n",
            "See the caveats in the documentation: https://pandas.pydata.org/pandas-docs/stable/user_guide/indexing.html#returning-a-view-versus-a-copy\n",
            "  \"\"\"Entry point for launching an IPython kernel.\n"
          ]
        },
        {
          "output_type": "execute_result",
          "data": {
            "text/html": [
              "<div>\n",
              "<style scoped>\n",
              "    .dataframe tbody tr th:only-of-type {\n",
              "        vertical-align: middle;\n",
              "    }\n",
              "\n",
              "    .dataframe tbody tr th {\n",
              "        vertical-align: top;\n",
              "    }\n",
              "\n",
              "    .dataframe thead th {\n",
              "        text-align: right;\n",
              "    }\n",
              "</style>\n",
              "<table border=\"1\" class=\"dataframe\">\n",
              "  <thead>\n",
              "    <tr style=\"text-align: right;\">\n",
              "      <th></th>\n",
              "      <th>location</th>\n",
              "      <th>size</th>\n",
              "      <th>total_sqft</th>\n",
              "      <th>bath</th>\n",
              "      <th>price</th>\n",
              "      <th>bhk</th>\n",
              "      <th>price_per_sqft</th>\n",
              "      <th>zscore</th>\n",
              "    </tr>\n",
              "  </thead>\n",
              "  <tbody>\n",
              "    <tr>\n",
              "      <th>4707</th>\n",
              "      <td>Haralur Road</td>\n",
              "      <td>3 BHK</td>\n",
              "      <td>1255.0</td>\n",
              "      <td>3.0</td>\n",
              "      <td>130.00</td>\n",
              "      <td>3</td>\n",
              "      <td>10358</td>\n",
              "      <td>0.892134</td>\n",
              "    </tr>\n",
              "    <tr>\n",
              "      <th>10222</th>\n",
              "      <td>9th Phase JP Nagar</td>\n",
              "      <td>3 BHK</td>\n",
              "      <td>1571.0</td>\n",
              "      <td>3.0</td>\n",
              "      <td>65.00</td>\n",
              "      <td>3</td>\n",
              "      <td>4137</td>\n",
              "      <td>-0.610152</td>\n",
              "    </tr>\n",
              "    <tr>\n",
              "      <th>5812</th>\n",
              "      <td>other</td>\n",
              "      <td>3 BHK</td>\n",
              "      <td>1750.0</td>\n",
              "      <td>3.0</td>\n",
              "      <td>170.00</td>\n",
              "      <td>3</td>\n",
              "      <td>9714</td>\n",
              "      <td>0.736617</td>\n",
              "    </tr>\n",
              "    <tr>\n",
              "      <th>7420</th>\n",
              "      <td>other</td>\n",
              "      <td>3 BHK</td>\n",
              "      <td>1440.0</td>\n",
              "      <td>3.0</td>\n",
              "      <td>72.00</td>\n",
              "      <td>3</td>\n",
              "      <td>5000</td>\n",
              "      <td>-0.401750</td>\n",
              "    </tr>\n",
              "    <tr>\n",
              "      <th>5863</th>\n",
              "      <td>other</td>\n",
              "      <td>1 Bedroom</td>\n",
              "      <td>1200.0</td>\n",
              "      <td>2.0</td>\n",
              "      <td>45.00</td>\n",
              "      <td>1</td>\n",
              "      <td>3750</td>\n",
              "      <td>-0.703608</td>\n",
              "    </tr>\n",
              "    <tr>\n",
              "      <th>10568</th>\n",
              "      <td>NRI Layout</td>\n",
              "      <td>4 Bedroom</td>\n",
              "      <td>800.0</td>\n",
              "      <td>5.0</td>\n",
              "      <td>95.50</td>\n",
              "      <td>4</td>\n",
              "      <td>11937</td>\n",
              "      <td>1.273441</td>\n",
              "    </tr>\n",
              "    <tr>\n",
              "      <th>5475</th>\n",
              "      <td>HRBR Layout</td>\n",
              "      <td>6 Bedroom</td>\n",
              "      <td>1200.0</td>\n",
              "      <td>6.0</td>\n",
              "      <td>250.00</td>\n",
              "      <td>6</td>\n",
              "      <td>20833</td>\n",
              "      <td>3.421704</td>\n",
              "    </tr>\n",
              "    <tr>\n",
              "      <th>8464</th>\n",
              "      <td>Thanisandra</td>\n",
              "      <td>2 BHK</td>\n",
              "      <td>1183.0</td>\n",
              "      <td>2.0</td>\n",
              "      <td>58.56</td>\n",
              "      <td>2</td>\n",
              "      <td>4950</td>\n",
              "      <td>-0.413824</td>\n",
              "    </tr>\n",
              "    <tr>\n",
              "      <th>2981</th>\n",
              "      <td>Hebbal</td>\n",
              "      <td>2 BHK</td>\n",
              "      <td>1100.0</td>\n",
              "      <td>2.0</td>\n",
              "      <td>47.00</td>\n",
              "      <td>2</td>\n",
              "      <td>4272</td>\n",
              "      <td>-0.577552</td>\n",
              "    </tr>\n",
              "    <tr>\n",
              "      <th>31</th>\n",
              "      <td>Bisuvanahalli</td>\n",
              "      <td>3 BHK</td>\n",
              "      <td>1075.0</td>\n",
              "      <td>2.0</td>\n",
              "      <td>35.00</td>\n",
              "      <td>3</td>\n",
              "      <td>3255</td>\n",
              "      <td>-0.823143</td>\n",
              "    </tr>\n",
              "  </tbody>\n",
              "</table>\n",
              "</div>"
            ],
            "text/plain": [
              "                 location       size  total_sqft  ...  bhk  price_per_sqft    zscore\n",
              "4707         Haralur Road      3 BHK      1255.0  ...    3           10358  0.892134\n",
              "10222  9th Phase JP Nagar      3 BHK      1571.0  ...    3            4137 -0.610152\n",
              "5812                other      3 BHK      1750.0  ...    3            9714  0.736617\n",
              "7420                other      3 BHK      1440.0  ...    3            5000 -0.401750\n",
              "5863                other  1 Bedroom      1200.0  ...    1            3750 -0.703608\n",
              "10568          NRI Layout  4 Bedroom       800.0  ...    4           11937  1.273441\n",
              "5475          HRBR Layout  6 Bedroom      1200.0  ...    6           20833  3.421704\n",
              "8464          Thanisandra      2 BHK      1183.0  ...    2            4950 -0.413824\n",
              "2981               Hebbal      2 BHK      1100.0  ...    2            4272 -0.577552\n",
              "31          Bisuvanahalli      3 BHK      1075.0  ...    3            3255 -0.823143\n",
              "\n",
              "[10 rows x 8 columns]"
            ]
          },
          "metadata": {},
          "execution_count": 32
        }
      ]
    },
    {
      "cell_type": "code",
      "metadata": {
        "colab": {
          "base_uri": "https://localhost:8080/"
        },
        "id": "bpS5XWPK1my9",
        "outputId": "61e2efc6-6198-47bf-a296-c3408d17af13"
      },
      "source": [
        "outliers_z = df2[(df2.zscore < -4) | (df2.zscore>4)]\n",
        "outliers_z.shape"
      ],
      "execution_count": 33,
      "outputs": [
        {
          "output_type": "execute_result",
          "data": {
            "text/plain": [
              "(125, 8)"
            ]
          },
          "metadata": {},
          "execution_count": 33
        }
      ]
    },
    {
      "cell_type": "code",
      "metadata": {
        "colab": {
          "base_uri": "https://localhost:8080/",
          "height": 204
        },
        "id": "D_SxYVCD1sKv",
        "outputId": "3441e679-44f2-433d-e6dc-25943dfa1a20"
      },
      "source": [
        "outliers_z.sample(5)"
      ],
      "execution_count": 34,
      "outputs": [
        {
          "output_type": "execute_result",
          "data": {
            "text/html": [
              "<div>\n",
              "<style scoped>\n",
              "    .dataframe tbody tr th:only-of-type {\n",
              "        vertical-align: middle;\n",
              "    }\n",
              "\n",
              "    .dataframe tbody tr th {\n",
              "        vertical-align: top;\n",
              "    }\n",
              "\n",
              "    .dataframe thead th {\n",
              "        text-align: right;\n",
              "    }\n",
              "</style>\n",
              "<table border=\"1\" class=\"dataframe\">\n",
              "  <thead>\n",
              "    <tr style=\"text-align: right;\">\n",
              "      <th></th>\n",
              "      <th>location</th>\n",
              "      <th>size</th>\n",
              "      <th>total_sqft</th>\n",
              "      <th>bath</th>\n",
              "      <th>price</th>\n",
              "      <th>bhk</th>\n",
              "      <th>price_per_sqft</th>\n",
              "      <th>zscore</th>\n",
              "    </tr>\n",
              "  </thead>\n",
              "  <tbody>\n",
              "    <tr>\n",
              "      <th>8483</th>\n",
              "      <td>HSR Layout</td>\n",
              "      <td>8 Bedroom</td>\n",
              "      <td>800.0</td>\n",
              "      <td>8.0</td>\n",
              "      <td>285.0</td>\n",
              "      <td>8</td>\n",
              "      <td>35625</td>\n",
              "      <td>6.993770</td>\n",
              "    </tr>\n",
              "    <tr>\n",
              "      <th>5144</th>\n",
              "      <td>Rajaji Nagar</td>\n",
              "      <td>3 Bedroom</td>\n",
              "      <td>2790.0</td>\n",
              "      <td>3.0</td>\n",
              "      <td>950.0</td>\n",
              "      <td>3</td>\n",
              "      <td>34050</td>\n",
              "      <td>6.613429</td>\n",
              "    </tr>\n",
              "    <tr>\n",
              "      <th>4119</th>\n",
              "      <td>other</td>\n",
              "      <td>4 Bedroom</td>\n",
              "      <td>7000.0</td>\n",
              "      <td>5.0</td>\n",
              "      <td>2050.0</td>\n",
              "      <td>4</td>\n",
              "      <td>29285</td>\n",
              "      <td>5.462746</td>\n",
              "    </tr>\n",
              "    <tr>\n",
              "      <th>6709</th>\n",
              "      <td>Malleshwaram</td>\n",
              "      <td>4 Bedroom</td>\n",
              "      <td>4000.0</td>\n",
              "      <td>4.0</td>\n",
              "      <td>1100.0</td>\n",
              "      <td>4</td>\n",
              "      <td>27500</td>\n",
              "      <td>5.031693</td>\n",
              "    </tr>\n",
              "    <tr>\n",
              "      <th>11696</th>\n",
              "      <td>other</td>\n",
              "      <td>4 Bedroom</td>\n",
              "      <td>2360.0</td>\n",
              "      <td>4.0</td>\n",
              "      <td>601.0</td>\n",
              "      <td>4</td>\n",
              "      <td>25466</td>\n",
              "      <td>4.540510</td>\n",
              "    </tr>\n",
              "  </tbody>\n",
              "</table>\n",
              "</div>"
            ],
            "text/plain": [
              "           location       size  total_sqft  ...  bhk  price_per_sqft    zscore\n",
              "8483     HSR Layout  8 Bedroom       800.0  ...    8           35625  6.993770\n",
              "5144   Rajaji Nagar  3 Bedroom      2790.0  ...    3           34050  6.613429\n",
              "4119          other  4 Bedroom      7000.0  ...    4           29285  5.462746\n",
              "6709   Malleshwaram  4 Bedroom      4000.0  ...    4           27500  5.031693\n",
              "11696         other  4 Bedroom      2360.0  ...    4           25466  4.540510\n",
              "\n",
              "[5 rows x 8 columns]"
            ]
          },
          "metadata": {},
          "execution_count": 34
        }
      ]
    },
    {
      "cell_type": "code",
      "metadata": {
        "colab": {
          "base_uri": "https://localhost:8080/"
        },
        "id": "1gzTnCK41shF",
        "outputId": "12ae80fc-9acb-4854-fd4f-6e23fba76a82"
      },
      "source": [
        "df4 = df2[(df2.zscore>-4)&(df2.zscore<4)]\n",
        "df4.shape"
      ],
      "execution_count": 35,
      "outputs": [
        {
          "output_type": "execute_result",
          "data": {
            "text/plain": [
              "(13047, 8)"
            ]
          },
          "metadata": {},
          "execution_count": 35
        }
      ]
    },
    {
      "cell_type": "code",
      "metadata": {
        "colab": {
          "base_uri": "https://localhost:8080/"
        },
        "id": "JbUR9PMg1u-V",
        "outputId": "2a358cf7-81ad-4ea2-a03e-604c745757b3"
      },
      "source": [
        "##also removed 125 outliers, same as 4 std deviation\n",
        "\n",
        "df2.shape[0] - df4.shape[0]"
      ],
      "execution_count": 36,
      "outputs": [
        {
          "output_type": "execute_result",
          "data": {
            "text/plain": [
              "125"
            ]
          },
          "metadata": {},
          "execution_count": 36
        }
      ]
    },
    {
      "cell_type": "code",
      "metadata": {
        "id": "UOpac3fs11Cy"
      },
      "source": [
        ""
      ],
      "execution_count": null,
      "outputs": []
    }
  ]
}